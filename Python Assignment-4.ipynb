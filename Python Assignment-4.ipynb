{
 "cells": [
  {
   "cell_type": "markdown",
   "id": "ff678038",
   "metadata": {},
   "source": [
    "1.1 Write a Python Program(with class concepts) to find the area of the triangle using the below  formula. \n",
    "area = (s*(s-a)*(s-b)*(s-c)) ** 0.5 "
   ]
  },
  {
   "cell_type": "code",
   "execution_count": 41,
   "id": "96479d53",
   "metadata": {},
   "outputs": [],
   "source": [
    "class Triangle:\n",
    "    def __init__(self):\n",
    "        self.a = float(input('enter a side of a : '))\n",
    "        self.b = float(input('enter a side of b : '))\n",
    "        self.c = float(input('enter a side of c : '))"
   ]
  },
  {
   "cell_type": "code",
   "execution_count": 42,
   "id": "531044ee",
   "metadata": {},
   "outputs": [],
   "source": [
    "class Area(Triangle):\n",
    "    def area(self):\n",
    "        s = (self.a + self.b + self.c)/2\n",
    "        area = (s*(s-self.a )*(s-self.b)*(s-self.c))**0.5\n",
    "        print('The area of triangle is  : ',area)"
   ]
  },
  {
   "cell_type": "code",
   "execution_count": 43,
   "id": "e65d9f8c",
   "metadata": {},
   "outputs": [
    {
     "name": "stdout",
     "output_type": "stream",
     "text": [
      "enter a side of a : 4\n",
      "enter a side of b : 5\n",
      "enter a side of c : 6\n",
      "The area of triangle is  :  9.921567416492215\n"
     ]
    }
   ],
   "source": [
    "a = Area()\n",
    "a.area()"
   ]
  },
  {
   "cell_type": "markdown",
   "id": "821e475e",
   "metadata": {},
   "source": [
    "1.2 Write a function filter_long_words() that takes a list of words and an integer n and returns  the list of words that are longer than n. "
   ]
  },
  {
   "cell_type": "code",
   "execution_count": 45,
   "id": "b3cf2f3e",
   "metadata": {},
   "outputs": [],
   "source": [
    "def filter_long_words(word,num):\n",
    "    a = []\n",
    "    for i in word:\n",
    "        if len(i)>num:\n",
    "            a.append(i)\n",
    "    print('The longest words are : {}'.format(a))"
   ]
  },
  {
   "cell_type": "code",
   "execution_count": 46,
   "id": "f3c77fc4",
   "metadata": {},
   "outputs": [
    {
     "name": "stdout",
     "output_type": "stream",
     "text": [
      "The longest words are : ['senthura', 'monesh', 'Machine Learning']\n"
     ]
    }
   ],
   "source": [
    "list1 = ['senthura','pandi','monesh','ragav','Machine Learning']\n",
    "filter_long_words(list1,5)"
   ]
  },
  {
   "cell_type": "markdown",
   "id": "30884086",
   "metadata": {},
   "source": [
    "2.1 Write a Python program using function concept that maps list of words into a list of integers  representing the lengths of the corresponding words. \n",
    "Hint: If a list [ ab,cde,erty] is passed on to the python function output should come as [2,3,4] Here 2,3 and 4 are the lengths of the words in the list. "
   ]
  },
  {
   "cell_type": "code",
   "execution_count": 47,
   "id": "3bc10eb1",
   "metadata": {},
   "outputs": [],
   "source": [
    "def word_len(word):\n",
    "    return len(word)"
   ]
  },
  {
   "cell_type": "code",
   "execution_count": 51,
   "id": "dc4bae02",
   "metadata": {},
   "outputs": [
    {
     "name": "stdout",
     "output_type": "stream",
     "text": [
      "[7, 5, 6]\n"
     ]
    }
   ],
   "source": [
    "list1 = ['ronaldo','messi','neymar']\n",
    "a = map(word_len,list1)\n",
    "print(list(a))"
   ]
  },
  {
   "cell_type": "markdown",
   "id": "3f9f39d7",
   "metadata": {},
   "source": [
    "2.2 Write a Python function which takes a character (i.e. a string of length 1) and returns True if  it is a vowel, False otherwise"
   ]
  },
  {
   "cell_type": "code",
   "execution_count": 67,
   "id": "255d4ac1",
   "metadata": {},
   "outputs": [],
   "source": [
    "def vowel_check(char):\n",
    "    if char == 'a'  or char == 'e' or char == 'i' or char == 'o' or char == 'u':\n",
    "        return True\n",
    "    else:\n",
    "        False"
   ]
  },
  {
   "cell_type": "code",
   "execution_count": 68,
   "id": "60041b5f",
   "metadata": {},
   "outputs": [
    {
     "name": "stdout",
     "output_type": "stream",
     "text": [
      "enter a input : a\n"
     ]
    },
    {
     "data": {
      "text/plain": [
       "True"
      ]
     },
     "execution_count": 68,
     "metadata": {},
     "output_type": "execute_result"
    }
   ],
   "source": [
    "vowel_check(input('enter a input : '))"
   ]
  },
  {
   "cell_type": "code",
   "execution_count": null,
   "id": "8924a30a",
   "metadata": {},
   "outputs": [],
   "source": []
  }
 ],
 "metadata": {
  "kernelspec": {
   "display_name": "Python 3",
   "language": "python",
   "name": "python3"
  },
  "language_info": {
   "codemirror_mode": {
    "name": "ipython",
    "version": 3
   },
   "file_extension": ".py",
   "mimetype": "text/x-python",
   "name": "python",
   "nbconvert_exporter": "python",
   "pygments_lexer": "ipython3",
   "version": "3.8.8"
  }
 },
 "nbformat": 4,
 "nbformat_minor": 5
}
